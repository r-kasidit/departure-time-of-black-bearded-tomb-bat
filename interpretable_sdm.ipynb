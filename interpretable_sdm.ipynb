{
 "cells": [
  {
   "cell_type": "markdown",
   "metadata": {},
   "source": [
    "## Species distribution models using random forest to predictthe most suitable habitat, then interpreted with package` lime`\n",
    "\n",
    "> predict 3 most suitable geo-habitats for White-breasted waterhen (*Amaurornis phoenicurus*)\n",
    "![](http://oknation.nationtv.tv/blog/home/blog_data/671/3671/images/mom2.jpg)"
   ]
  },
  {
   "cell_type": "markdown",
   "metadata": {},
   "source": [
    "## Load required libraries"
   ]
  },
  {
   "cell_type": "code",
   "execution_count": 1,
   "metadata": {},
   "outputs": [
    {
     "name": "stderr",
     "output_type": "stream",
     "text": [
      "sdmbench: Tools for benchmarking Species Distribution Models \n",
      "============================================================\n",
      "For more information visit http://github.com/ \n",
      "To start the GUI: run_sdmbench()\n",
      "\n",
      "Loading required package: ParamHelpers\n",
      "\n",
      "'mlr' is in maintenance mode since July 2019. Future development\n",
      "efforts will go into its successor 'mlr3' (<https://mlr3.mlr-org.com>).\n",
      "\n",
      "\n",
      "Attaching package: 'dplyr'\n",
      "\n",
      "\n",
      "The following object is masked from 'package:lime':\n",
      "\n",
      "    explain\n",
      "\n",
      "\n",
      "The following objects are masked from 'package:stats':\n",
      "\n",
      "    filter, lag\n",
      "\n",
      "\n",
      "The following objects are masked from 'package:base':\n",
      "\n",
      "    intersect, setdiff, setequal, union\n",
      "\n",
      "\n",
      "Loading required package: lattice\n",
      "\n",
      "\n",
      "Attaching package: 'ggplot2'\n",
      "\n",
      "\n",
      "The following object is masked from 'package:latticeExtra':\n",
      "\n",
      "    layer\n",
      "\n",
      "\n"
     ]
    }
   ],
   "source": [
    "library(sdmbench)\n",
    "library(mlr)\n",
    "library(iml)\n",
    "library(lime)\n",
    "library(dplyr)\n",
    "library(rsample)\n",
    "library(latticeExtra)\n",
    "library(sp)\n",
    "library(ggplot2)"
   ]
  },
  {
   "cell_type": "markdown",
   "metadata": {},
   "source": [
    "## Get and prepare data "
   ]
  },
  {
   "cell_type": "code",
   "execution_count": 2,
   "metadata": {},
   "outputs": [
    {
     "name": "stdout",
     "output_type": "stream",
     "text": [
      "[1] \"Getting benchmarking data....\"\n",
      "[1] \"Cleaning benchmarking data....\"\n"
     ]
    },
    {
     "name": "stderr",
     "output_type": "stream",
     "text": [
      "Registered S3 method overwritten by 'hoardr':\n",
      "  method           from\n",
      "  print.cache_info httr\n",
      "\n",
      "Assuming 'decimalLatitude' is latitude\n",
      "\n",
      "Assuming 'decimalLongitude' is longitude\n",
      "\n"
     ]
    },
    {
     "name": "stdout",
     "output_type": "stream",
     "text": [
      "[1] \"Done!\"\n"
     ]
    }
   ],
   "source": [
    "occ_data_raw <-\n",
    "  get_benchmarking_data(\"Amaurornis phoenicurus\", limit = 500)\n",
    "\n",
    "\n",
    "occ_data <- occ_data_raw$df_data\n",
    "\n",
    "occ_data$label <- as.factor(occ_data$label)\n",
    "\n",
    "coordinates_df <- rbind(occ_data_raw$raster_data$coords_presence,\n",
    "                        occ_data_raw$raster_data$background)\n",
    "\n",
    "occ_data <-\n",
    "  normalizeFeatures(occ_data, method = \"standardize\")\n",
    "\n",
    "occ_data <- cbind(occ_data, coordinates_df)\n",
    "occ_data <- na.omit(occ_data)"
   ]
  },
  {
   "cell_type": "markdown",
   "metadata": {},
   "source": [
    "## Split data for machine learning "
   ]
  },
  {
   "cell_type": "code",
   "execution_count": 3,
   "metadata": {},
   "outputs": [],
   "source": [
    "set.seed(99)\n",
    "train_test_split <- initial_split(occ_data, prop = 0.7)\n",
    "data_train <- training(train_test_split)\n",
    "data_test  <- testing(train_test_split)\n",
    "data_train$x <- NULL\n",
    "data_train$y <- NULL\n",
    "data_test_subset <- data_test %>% filter(label == 1)"
   ]
  },
  {
   "cell_type": "markdown",
   "metadata": {},
   "source": [
    "## Train model "
   ]
  },
  {
   "cell_type": "code",
   "execution_count": 4,
   "metadata": {},
   "outputs": [],
   "source": [
    "task <-\n",
    "  makeClassifTask(id = \"model\", data = data_train, target = \"label\")\n",
    "lrn <- makeLearner(\"classif.randomForest\", predict.type = \"prob\")\n",
    "mod <- train(lrn, task)\n",
    "pred <- predict(mod, newdata=data_test)\n",
    "VIMP <- as.data.frame(getFeatureImportance(mod)$res)\n"
   ]
  },
  {
   "cell_type": "markdown",
   "metadata": {},
   "source": [
    "### - Top 5 important variables"
   ]
  },
  {
   "cell_type": "code",
   "execution_count": 5,
   "metadata": {},
   "outputs": [
    {
     "data": {
      "image/png": "[encoded data removed]",
      "text/plain": [
       "plot without title"
      ]
     },
     "metadata": {
      "image/png": {
       "height": 420,
       "width": 420
      },
      "text/plain": {
       "height": 420,
       "width": 420
      }
     },
     "output_type": "display_data"
    }
   ],
   "source": [
    "top_n(VIMP, n=5, importance) %>%\n",
    "  ggplot(., aes(x=reorder(variable,importance), y=importance))+\n",
    "  geom_bar(stat='identity')+ coord_flip() + xlab(\"\")"
   ]
  },
  {
   "cell_type": "markdown",
   "metadata": {},
   "source": [
    "### - Performance"
   ]
  },
  {
   "cell_type": "code",
   "execution_count": 6,
   "metadata": {},
   "outputs": [
    {
     "data": {
      "text/html": [
       "<strong>auc:</strong> 0.966791111111111"
      ],
      "text/latex": [
       "\\textbf{auc:} 0.966791111111111"
      ],
      "text/markdown": [
       "**auc:** 0.966791111111111"
      ],
      "text/plain": [
       "      auc \n",
       "0.9667911 "
      ]
     },
     "metadata": {},
     "output_type": "display_data"
    }
   ],
   "source": [
    "performance(pred, measures=auc)\n"
   ]
  },
  {
   "cell_type": "markdown",
   "metadata": {},
   "source": [
    "## ALE plot"
   ]
  },
  {
   "cell_type": "code",
   "execution_count": 13,
   "metadata": {},
   "outputs": [
    {
     "data": {
      "image/png": "[encoded data removed]",
      "text/plain": [
       "plot without title"
      ]
     },
     "metadata": {
      "image/png": {
       "height": 420,
       "width": 420
      },
      "text/plain": {
       "height": 420,
       "width": 420
      }
     },
     "output_type": "display_data"
    }
   ],
   "source": [
    "predictor <-\n",
    "  Predictor$new(mod, data = data_train, class = 1, y = \"label\")\n",
    "ale <- FeatureEffect$new(predictor, feature = \"bio2\")\n",
    "ale$plot() +\n",
    "  theme_minimal() +\n",
    "  ggtitle(\"ALE Feature Effect\") +\n",
    "  xlab(\"Mean Diurnal Range (Mean of monthly (max temp - min temp))\")"
   ]
  },
  {
   "cell_type": "markdown",
   "metadata": {},
   "source": [
    "## Generate explanations and resampling"
   ]
  },
  {
   "cell_type": "code",
   "execution_count": 8,
   "metadata": {},
   "outputs": [
    {
     "data": {
      "image/png": "[encoded data removed]",
      "text/plain": [
       "plot without title"
      ]
     },
     "metadata": {
      "image/png": {
       "height": 420,
       "width": 420
      },
      "text/plain": {
       "height": 420,
       "width": 420
      }
     },
     "output_type": "display_data"
    }
   ],
   "source": [
    "sample_data <- withr::with_seed(1, sample_n(data_test_subset, 3))\n",
    "sample_data_coords <- dplyr::select(sample_data, c(\"x\", \"y\"))\n",
    "sample_data$x <- NULL\n",
    "sample_data$y <- NULL\n",
    "\n",
    "\n",
    "set.seed(42)\n",
    "explainer <- lime(data_train, mod)\n",
    "set.seed(42)\n",
    "explanation <-\n",
    "  lime::explain(sample_data,\n",
    "                explainer,\n",
    "                n_labels = 1,\n",
    "                n_features = 5)\n",
    "plot_features(explanation)"
   ]
  },
  {
   "cell_type": "code",
   "execution_count": 9,
   "metadata": {},
   "outputs": [],
   "source": [
    "customPredictFun <- function(model, data) {\n",
    "  v <- predict(model, data, type = \"prob\")\n",
    "  v <- as.data.frame(v)\n",
    "  colnames(v) <- c(\"absence\", \"presence\")\n",
    "  return(v$presence)\n",
    "}\n",
    "\n",
    "normalized_raster <- RStoolbox::normImage(occ_data_raw$raster_data$climate_variables)\n",
    "names(normalized_raster) <- names(occ_data_raw$raster_data$climate_variables)\n",
    "pr <-\n",
    "  dismo::predict(normalized_raster,\n",
    "                 mlr::getLearnerModel(mod, TRUE),\n",
    "                 fun = customPredictFun)\n"
   ]
  },
  {
   "cell_type": "markdown",
   "metadata": {},
   "source": [
    "## Plot on the map"
   ]
  },
  {
   "cell_type": "code",
   "execution_count": 10,
   "metadata": {},
   "outputs": [
    {
     "data": {
      "image/png": "[encoded data removed]",
      "text/plain": [
       "plot without title"
      ]
     },
     "metadata": {
      "image/png": {
       "height": 420,
       "width": 420
      },
      "text/plain": {
       "height": 420,
       "width": 420
      }
     },
     "output_type": "display_data"
    }
   ],
   "source": [
    "coordinates(sample_data_coords) <- ~ x + y\n",
    "rf_map <-\n",
    "  spplot(pr, main = \"Habitat Suitability Map\",\n",
    "         scales = list(draw = TRUE),\n",
    "         sp.layout = list(\"sp.points\", sample_data_coords, pch=1, cex=1.2, lwd=2, col=\"white\"))\n",
    "rf_map"
   ]
  }
 ],
 "metadata": {
  "kernelspec": {
   "display_name": "R 4.0.2",
   "language": "R",
   "name": "ir40"
  },
  "language_info": {
   "codemirror_mode": "r",
   "file_extension": ".r",
   "mimetype": "text/x-r-source",
   "name": "R",
   "pygments_lexer": "r",
   "version": "4.0.2"
  }
 },
 "nbformat": 4,
 "nbformat_minor": 4
}
